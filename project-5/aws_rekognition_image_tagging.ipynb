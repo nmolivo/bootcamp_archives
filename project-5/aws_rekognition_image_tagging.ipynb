{
 "cells": [
  {
   "cell_type": "markdown",
   "metadata": {},
   "source": [
    "## Notebook tasks:\n",
    "### - Save images to an AWS S3 bucket\n",
    "### - Use AWS Rekognition to reverse image search and return tags for each image\n",
    "### - Saves data in both long and wide data frames\n",
    "Brought to you by Natalie Olivo<br>\n",
    "<a href = https://www.linkedin.com/in/natalie-olivo-82548951/>LinkedIn</a><br>\n",
    "<a href = https://nmolivo.github.io/NMOstatic/>Website</a><br>\n",
    "<a href = https://medium.com/@NatalieOlivo>Blog</a><br>\n",
    "<a href = https://github.com/nmolivo>GitHub</a><br>"
   ]
  },
  {
   "cell_type": "code",
   "execution_count": 1,
   "metadata": {
    "collapsed": true
   },
   "outputs": [],
   "source": [
    "import pandas as pd\n",
    "import numpy as np"
   ]
  },
  {
   "cell_type": "code",
   "execution_count": 2,
   "metadata": {
    "collapsed": true
   },
   "outputs": [],
   "source": [
    "df = pd.read_csv(\"newtweets_10percent.csv\")"
   ]
  },
  {
   "cell_type": "code",
   "execution_count": 3,
   "metadata": {
    "collapsed": true
   },
   "outputs": [],
   "source": [
    "image_list = df['link_thumbnail']"
   ]
  },
  {
   "cell_type": "code",
   "execution_count": 4,
   "metadata": {
    "collapsed": false
   },
   "outputs": [
    {
     "data": {
      "text/plain": [
       "'https://media.vanityfair.com/photos/5a0cb19d70fe0563a1ebbf44/16:9/w_1200,h_630,c_limit/t-Lisa-Lucas-Interview-a.jpg'"
      ]
     },
     "execution_count": 4,
     "metadata": {},
     "output_type": "execute_result"
    }
   ],
   "source": [
    "#make sure it looks good!\n",
    "test_1 = image_list[3]\n",
    "test_1"
   ]
  },
  {
   "cell_type": "code",
   "execution_count": 5,
   "metadata": {
    "collapsed": true
   },
   "outputs": [],
   "source": [
    "import boto\n",
    "import boto3\n",
    "conn = boto.connect_s3()\n",
    "import requests"
   ]
  },
  {
   "cell_type": "code",
   "execution_count": 6,
   "metadata": {
    "collapsed": true
   },
   "outputs": [],
   "source": [
    "# Uses the creds in ~/.aws/credentials\n",
    "s3 = boto3.resource('s3')\n",
    "bucket_name_to_upload_image_to = '880220067832' #insert the name of your bucket here."
   ]
  },
  {
   "cell_type": "code",
   "execution_count": 7,
   "metadata": {
    "collapsed": false
   },
   "outputs": [
    {
     "name": "stdout",
     "output_type": "stream",
     "text": [
      "Good to go. Found the bucket to upload the image into.\n"
     ]
    }
   ],
   "source": [
    "# Do this as a quick and easy check to make sure your S3 access is OK\n",
    "for bucket in s3.buckets.all():\n",
    "    if bucket.name == bucket_name_to_upload_image_to:\n",
    "        print('Good to go. Found the bucket to upload the image into.')\n",
    "        good_to_go = True\n",
    "\n",
    "if not good_to_go:\n",
    "    print('Not seeing your s3 bucket, might want to double check permissions in IAM')"
   ]
  },
  {
   "cell_type": "code",
   "execution_count": 8,
   "metadata": {
    "collapsed": true
   },
   "outputs": [],
   "source": [
    "### We received all our images in the form of links. \n",
    "### We need our images saved to an S3 bucket, preferably without saving them to our hard drive.\n",
    "\n",
    "### Don't have a bucket? What is a bucket? http://docs.aws.amazon.com/AmazonS3/latest/user-guide/create-bucket.html"
   ]
  },
  {
   "cell_type": "code",
   "execution_count": null,
   "metadata": {
    "collapsed": true
   },
   "outputs": [],
   "source": [
    "mapping_dict ={}\n",
    "for i, img_url in enumerate(image_list[0:10000]):\n",
    "    img_name = \"img_%05d\" % (i,)\n",
    "    mapping_dict[img_name] = img_url\n",
    "    \n",
    "    if (img_url == np.nan) | (str(img_url) == \"nan\"):\n",
    "        continue\n",
    "    else:\n",
    "        # Uses the creds in ~/.aws/credentials\n",
    "        s3_image_filename = img_name\n",
    "        internet_image_url = img_url\n",
    "\n",
    "        # Given an Internet-accessible URL, download the image and upload it to S3,\n",
    "        # without needing to persist the image to disk locally\n",
    "        req_for_image = requests.get(internet_image_url, stream=True)\n",
    "        file_object_from_req = req_for_image.raw\n",
    "        req_data = file_object_from_req.read()\n",
    "\n",
    "        # Do the actual upload to s3\n",
    "        s3.Bucket(bucket_name_to_upload_image_to).put_object(Key=s3_image_filename, Body=req_data)"
   ]
  },
  {
   "cell_type": "code",
   "execution_count": null,
   "metadata": {
    "collapsed": true
   },
   "outputs": [],
   "source": [
    "# Save down your mapping dict so that you can eventually re-map your image tags to your full dataframe.\n",
    "mapping_dict = pd.DataFrame(mapping_dict, index = range(0,len(mapping_dict)))\n",
    "mapping_dict = pd.DataFrame(md_01.T[0])\n",
    "mapping_dict.to_csv('mappingdict.csv')"
   ]
  },
  {
   "cell_type": "markdown",
   "metadata": {},
   "source": [
    "## Developer notes: Below is code for component parts of a big for-loop that creates both wide and long dataframes with image information gathered from AWS Rekognition."
   ]
  },
  {
   "cell_type": "code",
   "execution_count": null,
   "metadata": {
    "collapsed": true
   },
   "outputs": [],
   "source": [
    "#So first off you probably want to look at the output of each tool in rekognition.  (It's different for each one!)\n",
    "#I'm going to focus on:\n",
    "#DetectObjects\n",
    "#RecognizeCelebrities\n",
    "#TextDetection"
   ]
  },
  {
   "cell_type": "markdown",
   "metadata": {},
   "source": [
    "### detect_labels"
   ]
  },
  {
   "cell_type": "code",
   "execution_count": 9,
   "metadata": {
    "collapsed": true
   },
   "outputs": [],
   "source": [
    "# http://docs.aws.amazon.com/rekognition/latest/dg/get-started-exercise.html\n",
    "fileName= 'img_00001'\n",
    "bucket='880220067832'\n",
    "client=boto3.client('rekognition')\n",
    "## ^^ we only need to do this code once for the following examples. but I include it \n",
    "##    re-instated in case you want to check out different pics.\n",
    "\n",
    "response = client.detect_labels(Image={'S3Object':{'Bucket':bucket,'Name':fileName}},MinConfidence=75)\n",
    "# Notes on detecting people\n",
    "# min confidence 75 return labels = [\"person\", \"people\", \"human\"]\n",
    "# min confidence ~50 returns labels = [\"blonde\", \"woman\"]"
   ]
  },
  {
   "cell_type": "code",
   "execution_count": 10,
   "metadata": {
    "collapsed": false
   },
   "outputs": [
    {
     "data": {
      "text/plain": [
       "{'Labels': [{'Confidence': 99.19410705566406, 'Name': 'Human'},\n",
       "  {'Confidence': 99.19410705566406, 'Name': 'People'},\n",
       "  {'Confidence': 99.19410705566406, 'Name': 'Person'}],\n",
       " 'OrientationCorrection': 'ROTATE_0',\n",
       " 'ResponseMetadata': {'HTTPHeaders': {'connection': 'keep-alive',\n",
       "   'content-length': '193',\n",
       "   'content-type': 'application/x-amz-json-1.1',\n",
       "   'date': 'Fri, 01 Dec 2017 16:18:17 GMT',\n",
       "   'x-amzn-requestid': '3d2dc847-d6b3-11e7-afd3-c72c76cfe8ae'},\n",
       "  'HTTPStatusCode': 200,\n",
       "  'RequestId': '3d2dc847-d6b3-11e7-afd3-c72c76cfe8ae',\n",
       "  'RetryAttempts': 0}}"
      ]
     },
     "execution_count": 10,
     "metadata": {},
     "output_type": "execute_result"
    }
   ],
   "source": [
    "#take a look at the output\n",
    "response"
   ]
  },
  {
   "cell_type": "code",
   "execution_count": 11,
   "metadata": {
    "collapsed": false
   },
   "outputs": [
    {
     "data": {
      "text/plain": [
       "dict_keys(['ResponseMetadata', 'OrientationCorrection', 'Labels'])"
      ]
     },
     "execution_count": 11,
     "metadata": {},
     "output_type": "execute_result"
    }
   ],
   "source": [
    "response.keys()"
   ]
  },
  {
   "cell_type": "markdown",
   "metadata": {},
   "source": [
    "### detect_text"
   ]
  },
  {
   "cell_type": "code",
   "execution_count": 12,
   "metadata": {
    "collapsed": true
   },
   "outputs": [],
   "source": [
    "fileName= 'img_00005'\n",
    "bucket='880220067832'\n",
    "\n",
    "text_in_image = client.detect_text(Image={'S3Object':{'Bucket':bucket,'Name':fileName}})"
   ]
  },
  {
   "cell_type": "code",
   "execution_count": 13,
   "metadata": {
    "collapsed": false
   },
   "outputs": [
    {
     "data": {
      "text/plain": [
       "dict_keys(['TextDetections', 'ResponseMetadata'])"
      ]
     },
     "execution_count": 13,
     "metadata": {},
     "output_type": "execute_result"
    }
   ],
   "source": [
    "text_in_image.keys()"
   ]
  },
  {
   "cell_type": "code",
   "execution_count": 14,
   "metadata": {
    "collapsed": false
   },
   "outputs": [
    {
     "data": {
      "text/plain": [
       "[{'Confidence': 95.9525146484375,\n",
       "  'DetectedText': 'AIR',\n",
       "  'Geometry': {'BoundingBox': {'Height': 0.21291303634643555,\n",
       "    'Left': 0.019829874858260155,\n",
       "    'Top': 0.18440240621566772,\n",
       "    'Width': 0.15056703984737396},\n",
       "   'Polygon': [{'X': 0.019829874858260155, 'Y': 0.18440240621566772},\n",
       "    {'X': 0.17039690911769867, 'Y': 0.17831771075725555},\n",
       "    {'X': 0.17433658242225647, 'Y': 0.3912307322025299},\n",
       "    {'X': 0.023769553750753403, 'Y': 0.39731544256210327}]},\n",
       "  'Id': 0,\n",
       "  'Type': 'LINE'},\n",
       " {'Confidence': 95.9525146484375,\n",
       "  'DetectedText': 'AIR',\n",
       "  'Geometry': {'BoundingBox': {'Height': 0.22101503610610962,\n",
       "    'Left': 0.01923844963312149,\n",
       "    'Top': 0.18050280213356018,\n",
       "    'Width': 0.15569211542606354},\n",
       "   'Polygon': [{'X': 0.019829874858260155, 'Y': 0.18440240621566772},\n",
       "    {'X': 0.17039690911769867, 'Y': 0.17831771075725555},\n",
       "    {'X': 0.17433658242225647, 'Y': 0.3912307322025299},\n",
       "    {'X': 0.023769553750753403, 'Y': 0.39731544256210327}]},\n",
       "  'Id': 1,\n",
       "  'ParentId': 0,\n",
       "  'Type': 'WORD'}]"
      ]
     },
     "execution_count": 14,
     "metadata": {},
     "output_type": "execute_result"
    }
   ],
   "source": [
    "text_in_image[\"TextDetections\"]"
   ]
  },
  {
   "cell_type": "markdown",
   "metadata": {},
   "source": [
    "### recognize_celebrities"
   ]
  },
  {
   "cell_type": "code",
   "execution_count": 32,
   "metadata": {
    "collapsed": true
   },
   "outputs": [],
   "source": [
    "fileName= 'img_00001'\n",
    "bucket='880220067832'\n",
    "\n",
    "celeb_detect = client.recognize_celebrities(Image={'S3Object':{'Bucket':bucket,'Name':fileName}})"
   ]
  },
  {
   "cell_type": "code",
   "execution_count": 33,
   "metadata": {
    "collapsed": false
   },
   "outputs": [
    {
     "data": {
      "text/plain": [
       "dict_keys(['ResponseMetadata', 'UnrecognizedFaces', 'CelebrityFaces', 'OrientationCorrection'])"
      ]
     },
     "execution_count": 33,
     "metadata": {},
     "output_type": "execute_result"
    }
   ],
   "source": [
    "celeb_detect.keys()"
   ]
  },
  {
   "cell_type": "code",
   "execution_count": 37,
   "metadata": {
    "collapsed": false
   },
   "outputs": [
    {
     "data": {
      "text/plain": [
       "'Bernardino Luini'"
      ]
     },
     "execution_count": 37,
     "metadata": {},
     "output_type": "execute_result"
    }
   ],
   "source": [
    "celeb_detect[\"CelebrityFaces\"][0][\"Name\"]"
   ]
  },
  {
   "cell_type": "markdown",
   "metadata": {},
   "source": [
    "## Big for-loop that creates both wide and long df's with our image tags from Rekognition:"
   ]
  },
  {
   "cell_type": "markdown",
   "metadata": {},
   "source": [
    "12/1 Notes: Sometimes due to network conditions, it will throw an error on a specific record. When ran again, that same record will not throw an error.\n",
    "12/1 Notes: This takes a long time to run. May want to only test on ~20 images at first."
   ]
  },
  {
   "cell_type": "code",
   "execution_count": 24,
   "metadata": {
    "collapsed": true
   },
   "outputs": [],
   "source": [
    "bucket_name = '880220067832'\n",
    "s3 = boto3.resource('s3')\n",
    "bucket = s3.Bucket(bucket_name)\n",
    "images = [img.key for img in bucket.objects.all()]\n",
    "client = boto3.client('rekognition')\n",
    "\n",
    "results_wide = []\n",
    "results_long = []\n",
    "\n",
    "for img in images[0:30]:\n",
    "    img_dict_wide = {'img': img}\n",
    "    #print(img)\n",
    "    try:\n",
    "        labels = client.detect_labels(Image={'S3Object':{'Bucket':bucket_name,'Name':img}},MinConfidence=75)\n",
    "        if 'Labels' in labels:\n",
    "            for l, label in enumerate(labels['Labels']):\n",
    "                results_long.append({'img': img, 'type': 'Label', 'label': label['Name'], \n",
    "                                     'confidence': label['Confidence']})\n",
    "                col = 'label_' + str(l)\n",
    "                img_dict_wide[col] = label['Name']\n",
    "                img_dict_wide[col + '_confidence'] = label['Confidence'] \n",
    "    except:\n",
    "        continue\n",
    "    try:        \n",
    "        celebrities = client.recognize_celebrities(Image={'S3Object':{'Bucket':bucket_name,'Name':img}})\n",
    "        if 'CelebrityFaces' in celebrities:\n",
    "            for f, face in enumerate(celebrities['CelebrityFaces']):\n",
    "                results_long.append({'img': img, 'type': 'Celebrity', 'label': face['Name'], \n",
    "                                     'confidence': face['Face']['Confidence']})\n",
    "                col = 'celeb_' + str(f)\n",
    "                img_dict_wide[col] = face['Name']\n",
    "                img_dict_wide[col + '_confidence'] = face['Face']['Confidence']\n",
    "    except:\n",
    "        continue\n",
    "    try:\n",
    "        text_in_image = client.detect_text(Image={'S3Object':{'Bucket':bucket_name,'Name':img}})\n",
    "        if \"TextDetections\" in text_in_image:\n",
    "            for w, word in enumerate(text_in_image[\"TextDetections\"]):\n",
    "                results_long.append({'img': img, 'type': \"Text\", 'label': word[\"DetectedText\"],\n",
    "                                    'confidence': word[\"Confidence\"]})\n",
    "                col = 'word_' + str(w)\n",
    "                img_dict_wide[col] = word[\"DetectedText\"]\n",
    "                img_dict_wide[col+ '_confidence'] = word[\"Confidence\"]\n",
    "    except:\n",
    "        continue\n",
    "            \n",
    "    if 'Labels' not in labels and 'CelebrityFaces' not in celebrities and \"TextDetections\" not in text_in_image:\n",
    "        results_long.append({'img': img, 'type': None, 'label': None, 'confidence': None})\n",
    "        \n",
    "    results_wide.append(img_dict_wide)\n",
    "####\n",
    "####\n",
    "img_df_long = pd.DataFrame(results_long, columns=['img', 'type', 'label', 'confidence'])\n",
    "img_df_wide = pd.DataFrame(results_wide)\n",
    "cols = sorted(img_df_wide.columns)\n",
    "cols.remove('img')\n",
    "img_df_wide = img_df_wide[['img'] + cols]"
   ]
  },
  {
   "cell_type": "code",
   "execution_count": 38,
   "metadata": {
    "collapsed": true
   },
   "outputs": [],
   "source": [
    "# save down your dfs.\n",
    "\n",
    "#For our topic modelers only focused on images data!\n",
    "img_df_long.to_csv(\"twitter_img_samp_long.csv\")\n",
    "\n",
    "#For mapping to the dataframe provided to us by TM\n",
    "img_df_wide.to_csv(\"twitter_img_samp_wide.csv\")"
   ]
  },
  {
   "cell_type": "code",
   "execution_count": 39,
   "metadata": {
    "collapsed": false
   },
   "outputs": [
    {
     "data": {
      "text/html": [
       "<div>\n",
       "<style>\n",
       "    .dataframe thead tr:only-child th {\n",
       "        text-align: right;\n",
       "    }\n",
       "\n",
       "    .dataframe thead th {\n",
       "        text-align: left;\n",
       "    }\n",
       "\n",
       "    .dataframe tbody tr th {\n",
       "        vertical-align: top;\n",
       "    }\n",
       "</style>\n",
       "<table border=\"1\" class=\"dataframe\">\n",
       "  <thead>\n",
       "    <tr style=\"text-align: right;\">\n",
       "      <th></th>\n",
       "      <th>img</th>\n",
       "      <th>type</th>\n",
       "      <th>label</th>\n",
       "      <th>confidence</th>\n",
       "    </tr>\n",
       "  </thead>\n",
       "  <tbody>\n",
       "    <tr>\n",
       "      <th>0</th>\n",
       "      <td>img_00000</td>\n",
       "      <td>Label</td>\n",
       "      <td>Human</td>\n",
       "      <td>98.962936</td>\n",
       "    </tr>\n",
       "    <tr>\n",
       "      <th>1</th>\n",
       "      <td>img_00000</td>\n",
       "      <td>Label</td>\n",
       "      <td>People</td>\n",
       "      <td>98.962921</td>\n",
       "    </tr>\n",
       "    <tr>\n",
       "      <th>2</th>\n",
       "      <td>img_00000</td>\n",
       "      <td>Label</td>\n",
       "      <td>Person</td>\n",
       "      <td>98.962936</td>\n",
       "    </tr>\n",
       "    <tr>\n",
       "      <th>3</th>\n",
       "      <td>img_00000</td>\n",
       "      <td>Label</td>\n",
       "      <td>Clothing</td>\n",
       "      <td>94.797012</td>\n",
       "    </tr>\n",
       "    <tr>\n",
       "      <th>4</th>\n",
       "      <td>img_00000</td>\n",
       "      <td>Label</td>\n",
       "      <td>Coat</td>\n",
       "      <td>94.797012</td>\n",
       "    </tr>\n",
       "    <tr>\n",
       "      <th>5</th>\n",
       "      <td>img_00000</td>\n",
       "      <td>Label</td>\n",
       "      <td>Overcoat</td>\n",
       "      <td>94.797012</td>\n",
       "    </tr>\n",
       "    <tr>\n",
       "      <th>6</th>\n",
       "      <td>img_00000</td>\n",
       "      <td>Label</td>\n",
       "      <td>Suit</td>\n",
       "      <td>94.797012</td>\n",
       "    </tr>\n",
       "    <tr>\n",
       "      <th>7</th>\n",
       "      <td>img_00000</td>\n",
       "      <td>Label</td>\n",
       "      <td>Face</td>\n",
       "      <td>83.895813</td>\n",
       "    </tr>\n",
       "    <tr>\n",
       "      <th>8</th>\n",
       "      <td>img_00000</td>\n",
       "      <td>Label</td>\n",
       "      <td>Portrait</td>\n",
       "      <td>83.895813</td>\n",
       "    </tr>\n",
       "    <tr>\n",
       "      <th>9</th>\n",
       "      <td>img_00000</td>\n",
       "      <td>Celebrity</td>\n",
       "      <td>Leonardo DiCaprio</td>\n",
       "      <td>99.999084</td>\n",
       "    </tr>\n",
       "    <tr>\n",
       "      <th>10</th>\n",
       "      <td>img_00001</td>\n",
       "      <td>Label</td>\n",
       "      <td>Human</td>\n",
       "      <td>99.194107</td>\n",
       "    </tr>\n",
       "    <tr>\n",
       "      <th>11</th>\n",
       "      <td>img_00001</td>\n",
       "      <td>Label</td>\n",
       "      <td>People</td>\n",
       "      <td>99.194107</td>\n",
       "    </tr>\n",
       "    <tr>\n",
       "      <th>12</th>\n",
       "      <td>img_00001</td>\n",
       "      <td>Label</td>\n",
       "      <td>Person</td>\n",
       "      <td>99.194107</td>\n",
       "    </tr>\n",
       "    <tr>\n",
       "      <th>13</th>\n",
       "      <td>img_00001</td>\n",
       "      <td>Celebrity</td>\n",
       "      <td>Bernardino Luini</td>\n",
       "      <td>99.999336</td>\n",
       "    </tr>\n",
       "    <tr>\n",
       "      <th>14</th>\n",
       "      <td>img_00002</td>\n",
       "      <td>Label</td>\n",
       "      <td>Label</td>\n",
       "      <td>96.367851</td>\n",
       "    </tr>\n",
       "    <tr>\n",
       "      <th>15</th>\n",
       "      <td>img_00002</td>\n",
       "      <td>Label</td>\n",
       "      <td>Sticker</td>\n",
       "      <td>96.367851</td>\n",
       "    </tr>\n",
       "    <tr>\n",
       "      <th>16</th>\n",
       "      <td>img_00002</td>\n",
       "      <td>Label</td>\n",
       "      <td>Text</td>\n",
       "      <td>96.367851</td>\n",
       "    </tr>\n",
       "    <tr>\n",
       "      <th>17</th>\n",
       "      <td>img_00002</td>\n",
       "      <td>Text</td>\n",
       "      <td>are sure?</td>\n",
       "      <td>89.830208</td>\n",
       "    </tr>\n",
       "    <tr>\n",
       "      <th>18</th>\n",
       "      <td>img_00002</td>\n",
       "      <td>Text</td>\n",
       "      <td>you</td>\n",
       "      <td>97.977188</td>\n",
       "    </tr>\n",
       "    <tr>\n",
       "      <th>19</th>\n",
       "      <td>img_00002</td>\n",
       "      <td>Text</td>\n",
       "      <td>are</td>\n",
       "      <td>87.397400</td>\n",
       "    </tr>\n",
       "    <tr>\n",
       "      <th>20</th>\n",
       "      <td>img_00002</td>\n",
       "      <td>Text</td>\n",
       "      <td>you</td>\n",
       "      <td>97.977188</td>\n",
       "    </tr>\n",
       "    <tr>\n",
       "      <th>21</th>\n",
       "      <td>img_00002</td>\n",
       "      <td>Text</td>\n",
       "      <td>sure?</td>\n",
       "      <td>92.263016</td>\n",
       "    </tr>\n",
       "    <tr>\n",
       "      <th>22</th>\n",
       "      <td>img_00003</td>\n",
       "      <td>Label</td>\n",
       "      <td>Human</td>\n",
       "      <td>99.218994</td>\n",
       "    </tr>\n",
       "    <tr>\n",
       "      <th>23</th>\n",
       "      <td>img_00003</td>\n",
       "      <td>Label</td>\n",
       "      <td>People</td>\n",
       "      <td>99.218979</td>\n",
       "    </tr>\n",
       "    <tr>\n",
       "      <th>24</th>\n",
       "      <td>img_00003</td>\n",
       "      <td>Label</td>\n",
       "      <td>Person</td>\n",
       "      <td>99.218994</td>\n",
       "    </tr>\n",
       "    <tr>\n",
       "      <th>25</th>\n",
       "      <td>img_00003</td>\n",
       "      <td>Label</td>\n",
       "      <td>Bookcase</td>\n",
       "      <td>84.763809</td>\n",
       "    </tr>\n",
       "    <tr>\n",
       "      <th>26</th>\n",
       "      <td>img_00003</td>\n",
       "      <td>Label</td>\n",
       "      <td>Furniture</td>\n",
       "      <td>84.763809</td>\n",
       "    </tr>\n",
       "    <tr>\n",
       "      <th>27</th>\n",
       "      <td>img_00003</td>\n",
       "      <td>Celebrity</td>\n",
       "      <td>Lisa Lucas</td>\n",
       "      <td>100.000000</td>\n",
       "    </tr>\n",
       "    <tr>\n",
       "      <th>28</th>\n",
       "      <td>img_00004</td>\n",
       "      <td>Label</td>\n",
       "      <td>Human</td>\n",
       "      <td>99.246712</td>\n",
       "    </tr>\n",
       "    <tr>\n",
       "      <th>29</th>\n",
       "      <td>img_00004</td>\n",
       "      <td>Label</td>\n",
       "      <td>People</td>\n",
       "      <td>99.246712</td>\n",
       "    </tr>\n",
       "    <tr>\n",
       "      <th>...</th>\n",
       "      <td>...</td>\n",
       "      <td>...</td>\n",
       "      <td>...</td>\n",
       "      <td>...</td>\n",
       "    </tr>\n",
       "    <tr>\n",
       "      <th>285</th>\n",
       "      <td>img_00027</td>\n",
       "      <td>Text</td>\n",
       "      <td>L'd</td>\n",
       "      <td>76.092148</td>\n",
       "    </tr>\n",
       "    <tr>\n",
       "      <th>286</th>\n",
       "      <td>img_00027</td>\n",
       "      <td>Text</td>\n",
       "      <td>ONDE</td>\n",
       "      <td>84.970268</td>\n",
       "    </tr>\n",
       "    <tr>\n",
       "      <th>287</th>\n",
       "      <td>img_00027</td>\n",
       "      <td>Text</td>\n",
       "      <td>L'OREAL</td>\n",
       "      <td>93.260864</td>\n",
       "    </tr>\n",
       "    <tr>\n",
       "      <th>288</th>\n",
       "      <td>img_00027</td>\n",
       "      <td>Text</td>\n",
       "      <td>UR</td>\n",
       "      <td>95.989021</td>\n",
       "    </tr>\n",
       "    <tr>\n",
       "      <th>289</th>\n",
       "      <td>img_00028</td>\n",
       "      <td>Label</td>\n",
       "      <td>Human</td>\n",
       "      <td>98.800987</td>\n",
       "    </tr>\n",
       "    <tr>\n",
       "      <th>290</th>\n",
       "      <td>img_00028</td>\n",
       "      <td>Label</td>\n",
       "      <td>People</td>\n",
       "      <td>98.800949</td>\n",
       "    </tr>\n",
       "    <tr>\n",
       "      <th>291</th>\n",
       "      <td>img_00028</td>\n",
       "      <td>Label</td>\n",
       "      <td>Person</td>\n",
       "      <td>98.800987</td>\n",
       "    </tr>\n",
       "    <tr>\n",
       "      <th>292</th>\n",
       "      <td>img_00028</td>\n",
       "      <td>Label</td>\n",
       "      <td>Coin</td>\n",
       "      <td>97.643021</td>\n",
       "    </tr>\n",
       "    <tr>\n",
       "      <th>293</th>\n",
       "      <td>img_00028</td>\n",
       "      <td>Label</td>\n",
       "      <td>Money</td>\n",
       "      <td>97.643021</td>\n",
       "    </tr>\n",
       "    <tr>\n",
       "      <th>294</th>\n",
       "      <td>img_00028</td>\n",
       "      <td>Label</td>\n",
       "      <td>Chocolate</td>\n",
       "      <td>94.169395</td>\n",
       "    </tr>\n",
       "    <tr>\n",
       "      <th>295</th>\n",
       "      <td>img_00028</td>\n",
       "      <td>Label</td>\n",
       "      <td>Dessert</td>\n",
       "      <td>94.169395</td>\n",
       "    </tr>\n",
       "    <tr>\n",
       "      <th>296</th>\n",
       "      <td>img_00028</td>\n",
       "      <td>Label</td>\n",
       "      <td>Food</td>\n",
       "      <td>94.169395</td>\n",
       "    </tr>\n",
       "    <tr>\n",
       "      <th>297</th>\n",
       "      <td>img_00028</td>\n",
       "      <td>Label</td>\n",
       "      <td>Cocoa</td>\n",
       "      <td>88.811554</td>\n",
       "    </tr>\n",
       "    <tr>\n",
       "      <th>298</th>\n",
       "      <td>img_00028</td>\n",
       "      <td>Label</td>\n",
       "      <td>Fudge</td>\n",
       "      <td>88.811554</td>\n",
       "    </tr>\n",
       "    <tr>\n",
       "      <th>299</th>\n",
       "      <td>img_00028</td>\n",
       "      <td>Label</td>\n",
       "      <td>Bean</td>\n",
       "      <td>84.782555</td>\n",
       "    </tr>\n",
       "    <tr>\n",
       "      <th>300</th>\n",
       "      <td>img_00028</td>\n",
       "      <td>Label</td>\n",
       "      <td>Flora</td>\n",
       "      <td>84.782555</td>\n",
       "    </tr>\n",
       "    <tr>\n",
       "      <th>301</th>\n",
       "      <td>img_00028</td>\n",
       "      <td>Label</td>\n",
       "      <td>Plant</td>\n",
       "      <td>84.782555</td>\n",
       "    </tr>\n",
       "    <tr>\n",
       "      <th>302</th>\n",
       "      <td>img_00028</td>\n",
       "      <td>Label</td>\n",
       "      <td>Produce</td>\n",
       "      <td>84.782555</td>\n",
       "    </tr>\n",
       "    <tr>\n",
       "      <th>303</th>\n",
       "      <td>img_00028</td>\n",
       "      <td>Label</td>\n",
       "      <td>Vegetable</td>\n",
       "      <td>84.782555</td>\n",
       "    </tr>\n",
       "    <tr>\n",
       "      <th>304</th>\n",
       "      <td>img_00028</td>\n",
       "      <td>Text</td>\n",
       "      <td>Colov Por</td>\n",
       "      <td>69.019791</td>\n",
       "    </tr>\n",
       "    <tr>\n",
       "      <th>305</th>\n",
       "      <td>img_00028</td>\n",
       "      <td>Text</td>\n",
       "      <td>Por</td>\n",
       "      <td>62.775875</td>\n",
       "    </tr>\n",
       "    <tr>\n",
       "      <th>306</th>\n",
       "      <td>img_00028</td>\n",
       "      <td>Text</td>\n",
       "      <td>Colov</td>\n",
       "      <td>75.263702</td>\n",
       "    </tr>\n",
       "    <tr>\n",
       "      <th>307</th>\n",
       "      <td>img_00029</td>\n",
       "      <td>Label</td>\n",
       "      <td>Human</td>\n",
       "      <td>99.069878</td>\n",
       "    </tr>\n",
       "    <tr>\n",
       "      <th>308</th>\n",
       "      <td>img_00029</td>\n",
       "      <td>Label</td>\n",
       "      <td>People</td>\n",
       "      <td>99.069862</td>\n",
       "    </tr>\n",
       "    <tr>\n",
       "      <th>309</th>\n",
       "      <td>img_00029</td>\n",
       "      <td>Label</td>\n",
       "      <td>Person</td>\n",
       "      <td>99.069878</td>\n",
       "    </tr>\n",
       "    <tr>\n",
       "      <th>310</th>\n",
       "      <td>img_00029</td>\n",
       "      <td>Label</td>\n",
       "      <td>Blonde</td>\n",
       "      <td>83.113770</td>\n",
       "    </tr>\n",
       "    <tr>\n",
       "      <th>311</th>\n",
       "      <td>img_00029</td>\n",
       "      <td>Label</td>\n",
       "      <td>Female</td>\n",
       "      <td>83.113770</td>\n",
       "    </tr>\n",
       "    <tr>\n",
       "      <th>312</th>\n",
       "      <td>img_00029</td>\n",
       "      <td>Label</td>\n",
       "      <td>Girl</td>\n",
       "      <td>83.113770</td>\n",
       "    </tr>\n",
       "    <tr>\n",
       "      <th>313</th>\n",
       "      <td>img_00029</td>\n",
       "      <td>Label</td>\n",
       "      <td>Woman</td>\n",
       "      <td>83.113770</td>\n",
       "    </tr>\n",
       "    <tr>\n",
       "      <th>314</th>\n",
       "      <td>img_00029</td>\n",
       "      <td>Celebrity</td>\n",
       "      <td>Sarah Hyland</td>\n",
       "      <td>99.729141</td>\n",
       "    </tr>\n",
       "  </tbody>\n",
       "</table>\n",
       "<p>315 rows × 4 columns</p>\n",
       "</div>"
      ],
      "text/plain": [
       "           img       type              label  confidence\n",
       "0    img_00000      Label              Human   98.962936\n",
       "1    img_00000      Label             People   98.962921\n",
       "2    img_00000      Label             Person   98.962936\n",
       "3    img_00000      Label           Clothing   94.797012\n",
       "4    img_00000      Label               Coat   94.797012\n",
       "5    img_00000      Label           Overcoat   94.797012\n",
       "6    img_00000      Label               Suit   94.797012\n",
       "7    img_00000      Label               Face   83.895813\n",
       "8    img_00000      Label           Portrait   83.895813\n",
       "9    img_00000  Celebrity  Leonardo DiCaprio   99.999084\n",
       "10   img_00001      Label              Human   99.194107\n",
       "11   img_00001      Label             People   99.194107\n",
       "12   img_00001      Label             Person   99.194107\n",
       "13   img_00001  Celebrity   Bernardino Luini   99.999336\n",
       "14   img_00002      Label              Label   96.367851\n",
       "15   img_00002      Label            Sticker   96.367851\n",
       "16   img_00002      Label               Text   96.367851\n",
       "17   img_00002       Text          are sure?   89.830208\n",
       "18   img_00002       Text                you   97.977188\n",
       "19   img_00002       Text                are   87.397400\n",
       "20   img_00002       Text                you   97.977188\n",
       "21   img_00002       Text              sure?   92.263016\n",
       "22   img_00003      Label              Human   99.218994\n",
       "23   img_00003      Label             People   99.218979\n",
       "24   img_00003      Label             Person   99.218994\n",
       "25   img_00003      Label           Bookcase   84.763809\n",
       "26   img_00003      Label          Furniture   84.763809\n",
       "27   img_00003  Celebrity         Lisa Lucas  100.000000\n",
       "28   img_00004      Label              Human   99.246712\n",
       "29   img_00004      Label             People   99.246712\n",
       "..         ...        ...                ...         ...\n",
       "285  img_00027       Text                L'd   76.092148\n",
       "286  img_00027       Text               ONDE   84.970268\n",
       "287  img_00027       Text            L'OREAL   93.260864\n",
       "288  img_00027       Text                 UR   95.989021\n",
       "289  img_00028      Label              Human   98.800987\n",
       "290  img_00028      Label             People   98.800949\n",
       "291  img_00028      Label             Person   98.800987\n",
       "292  img_00028      Label               Coin   97.643021\n",
       "293  img_00028      Label              Money   97.643021\n",
       "294  img_00028      Label          Chocolate   94.169395\n",
       "295  img_00028      Label            Dessert   94.169395\n",
       "296  img_00028      Label               Food   94.169395\n",
       "297  img_00028      Label              Cocoa   88.811554\n",
       "298  img_00028      Label              Fudge   88.811554\n",
       "299  img_00028      Label               Bean   84.782555\n",
       "300  img_00028      Label              Flora   84.782555\n",
       "301  img_00028      Label              Plant   84.782555\n",
       "302  img_00028      Label            Produce   84.782555\n",
       "303  img_00028      Label          Vegetable   84.782555\n",
       "304  img_00028       Text          Colov Por   69.019791\n",
       "305  img_00028       Text                Por   62.775875\n",
       "306  img_00028       Text              Colov   75.263702\n",
       "307  img_00029      Label              Human   99.069878\n",
       "308  img_00029      Label             People   99.069862\n",
       "309  img_00029      Label             Person   99.069878\n",
       "310  img_00029      Label             Blonde   83.113770\n",
       "311  img_00029      Label             Female   83.113770\n",
       "312  img_00029      Label               Girl   83.113770\n",
       "313  img_00029      Label              Woman   83.113770\n",
       "314  img_00029  Celebrity       Sarah Hyland   99.729141\n",
       "\n",
       "[315 rows x 4 columns]"
      ]
     },
     "execution_count": 39,
     "metadata": {},
     "output_type": "execute_result"
    }
   ],
   "source": [
    "img_df_long"
   ]
  },
  {
   "cell_type": "code",
   "execution_count": null,
   "metadata": {
    "collapsed": true
   },
   "outputs": [],
   "source": []
  }
 ],
 "metadata": {
  "kernelspec": {
   "display_name": "Python [conda root]",
   "language": "python",
   "name": "conda-root-py"
  },
  "language_info": {
   "codemirror_mode": {
    "name": "ipython",
    "version": 3
   },
   "file_extension": ".py",
   "mimetype": "text/x-python",
   "name": "python",
   "nbconvert_exporter": "python",
   "pygments_lexer": "ipython3",
   "version": "3.5.2"
  }
 },
 "nbformat": 4,
 "nbformat_minor": 2
}
